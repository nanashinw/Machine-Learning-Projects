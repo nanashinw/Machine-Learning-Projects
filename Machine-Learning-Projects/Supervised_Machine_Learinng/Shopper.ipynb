{
 "cells": [
  {
   "cell_type": "code",
   "execution_count": 8,
   "id": "a3151091",
   "metadata": {},
   "outputs": [],
   "source": [
    "import pandas as pd"
   ]
  },
  {
   "cell_type": "code",
   "execution_count": 11,
   "id": "5dd60ded",
   "metadata": {},
   "outputs": [],
   "source": [
    "df = pd.read_csv(\"DataSet/anime_characters.csv\")"
   ]
  },
  {
   "cell_type": "code",
   "execution_count": 13,
   "id": "342e1308",
   "metadata": {},
   "outputs": [
    {
     "data": {
      "text/html": [
       "<div>\n",
       "<style scoped>\n",
       "    .dataframe tbody tr th:only-of-type {\n",
       "        vertical-align: middle;\n",
       "    }\n",
       "\n",
       "    .dataframe tbody tr th {\n",
       "        vertical-align: top;\n",
       "    }\n",
       "\n",
       "    .dataframe thead th {\n",
       "        text-align: right;\n",
       "    }\n",
       "</style>\n",
       "<table border=\"1\" class=\"dataframe\">\n",
       "  <thead>\n",
       "    <tr style=\"text-align: right;\">\n",
       "      <th></th>\n",
       "      <th>mal_id</th>\n",
       "      <th>url</th>\n",
       "      <th>name</th>\n",
       "      <th>name_kanji</th>\n",
       "      <th>nicknames</th>\n",
       "      <th>favorites</th>\n",
       "      <th>about</th>\n",
       "      <th>image_jpg_url</th>\n",
       "      <th>image_webp_url</th>\n",
       "      <th>image_webp_small_url</th>\n",
       "    </tr>\n",
       "  </thead>\n",
       "  <tbody>\n",
       "    <tr>\n",
       "      <th>0</th>\n",
       "      <td>1</td>\n",
       "      <td>https://myanimelist.net/character/1/Spike_Spiegel</td>\n",
       "      <td>Spike Spiegel</td>\n",
       "      <td>スパイク・スピーゲル</td>\n",
       "      <td>NaN</td>\n",
       "      <td>48133</td>\n",
       "      <td>Birthdate: June 26, 2044 Height: 185 cm (6' 1\"...</td>\n",
       "      <td>https://cdn.myanimelist.net/images/characters/...</td>\n",
       "      <td>https://cdn.myanimelist.net/images/characters/...</td>\n",
       "      <td>https://cdn.myanimelist.net/images/characters/...</td>\n",
       "    </tr>\n",
       "    <tr>\n",
       "      <th>1</th>\n",
       "      <td>2</td>\n",
       "      <td>https://myanimelist.net/character/2/Faye_Valen...</td>\n",
       "      <td>Faye Valentine</td>\n",
       "      <td>フェイ・バレンタイン</td>\n",
       "      <td>NaN</td>\n",
       "      <td>9474</td>\n",
       "      <td>Birthday: August 14, 1994  One of the members ...</td>\n",
       "      <td>https://cdn.myanimelist.net/images/characters/...</td>\n",
       "      <td>https://cdn.myanimelist.net/images/characters/...</td>\n",
       "      <td>https://cdn.myanimelist.net/images/characters/...</td>\n",
       "    </tr>\n",
       "    <tr>\n",
       "      <th>2</th>\n",
       "      <td>3</td>\n",
       "      <td>https://myanimelist.net/character/3/Jet_Black</td>\n",
       "      <td>Jet Black</td>\n",
       "      <td>ジェット・ブラック</td>\n",
       "      <td>Running Rock, Black Dog</td>\n",
       "      <td>2239</td>\n",
       "      <td>Jet, known on his home satellite as the \"Black...</td>\n",
       "      <td>https://cdn.myanimelist.net/images/characters/...</td>\n",
       "      <td>https://cdn.myanimelist.net/images/characters/...</td>\n",
       "      <td>https://cdn.myanimelist.net/images/characters/...</td>\n",
       "    </tr>\n",
       "    <tr>\n",
       "      <th>3</th>\n",
       "      <td>4</td>\n",
       "      <td>https://myanimelist.net/character/4/Ein</td>\n",
       "      <td>Ein</td>\n",
       "      <td>アイン</td>\n",
       "      <td>NaN</td>\n",
       "      <td>2378</td>\n",
       "      <td>Ein is a Pembroke Welsh Corgi brought aboard t...</td>\n",
       "      <td>https://cdn.myanimelist.net/images/characters/...</td>\n",
       "      <td>https://cdn.myanimelist.net/images/characters/...</td>\n",
       "      <td>https://cdn.myanimelist.net/images/characters/...</td>\n",
       "    </tr>\n",
       "    <tr>\n",
       "      <th>4</th>\n",
       "      <td>5</td>\n",
       "      <td>https://myanimelist.net/character/5/Ichigo_Kur...</td>\n",
       "      <td>Ichigo Kurosaki</td>\n",
       "      <td>黒崎 一護</td>\n",
       "      <td>Ichi-nii, Shinigami Daiko (Substitute Soul Rea...</td>\n",
       "      <td>35561</td>\n",
       "      <td>Race: Human Birthday: July 15 (Cancer) Age: 15...</td>\n",
       "      <td>https://cdn.myanimelist.net/images/characters/...</td>\n",
       "      <td>https://cdn.myanimelist.net/images/characters/...</td>\n",
       "      <td>https://cdn.myanimelist.net/images/characters/...</td>\n",
       "    </tr>\n",
       "  </tbody>\n",
       "</table>\n",
       "</div>"
      ],
      "text/plain": [
       "   mal_id                                                url             name  \\\n",
       "0       1  https://myanimelist.net/character/1/Spike_Spiegel    Spike Spiegel   \n",
       "1       2  https://myanimelist.net/character/2/Faye_Valen...   Faye Valentine   \n",
       "2       3      https://myanimelist.net/character/3/Jet_Black        Jet Black   \n",
       "3       4            https://myanimelist.net/character/4/Ein              Ein   \n",
       "4       5  https://myanimelist.net/character/5/Ichigo_Kur...  Ichigo Kurosaki   \n",
       "\n",
       "   name_kanji                                          nicknames  favorites  \\\n",
       "0  スパイク・スピーゲル                                                NaN      48133   \n",
       "1  フェイ・バレンタイン                                                NaN       9474   \n",
       "2   ジェット・ブラック                            Running Rock, Black Dog       2239   \n",
       "3         アイン                                                NaN       2378   \n",
       "4       黒崎 一護  Ichi-nii, Shinigami Daiko (Substitute Soul Rea...      35561   \n",
       "\n",
       "                                               about  \\\n",
       "0  Birthdate: June 26, 2044 Height: 185 cm (6' 1\"...   \n",
       "1  Birthday: August 14, 1994  One of the members ...   \n",
       "2  Jet, known on his home satellite as the \"Black...   \n",
       "3  Ein is a Pembroke Welsh Corgi brought aboard t...   \n",
       "4  Race: Human Birthday: July 15 (Cancer) Age: 15...   \n",
       "\n",
       "                                       image_jpg_url  \\\n",
       "0  https://cdn.myanimelist.net/images/characters/...   \n",
       "1  https://cdn.myanimelist.net/images/characters/...   \n",
       "2  https://cdn.myanimelist.net/images/characters/...   \n",
       "3  https://cdn.myanimelist.net/images/characters/...   \n",
       "4  https://cdn.myanimelist.net/images/characters/...   \n",
       "\n",
       "                                      image_webp_url  \\\n",
       "0  https://cdn.myanimelist.net/images/characters/...   \n",
       "1  https://cdn.myanimelist.net/images/characters/...   \n",
       "2  https://cdn.myanimelist.net/images/characters/...   \n",
       "3  https://cdn.myanimelist.net/images/characters/...   \n",
       "4  https://cdn.myanimelist.net/images/characters/...   \n",
       "\n",
       "                                image_webp_small_url  \n",
       "0  https://cdn.myanimelist.net/images/characters/...  \n",
       "1  https://cdn.myanimelist.net/images/characters/...  \n",
       "2  https://cdn.myanimelist.net/images/characters/...  \n",
       "3  https://cdn.myanimelist.net/images/characters/...  \n",
       "4  https://cdn.myanimelist.net/images/characters/...  "
      ]
     },
     "execution_count": 13,
     "metadata": {},
     "output_type": "execute_result"
    }
   ],
   "source": [
    "df.head()"
   ]
  },
  {
   "cell_type": "code",
   "execution_count": 14,
   "id": "3e35239c",
   "metadata": {},
   "outputs": [
    {
     "name": "stdout",
     "output_type": "stream",
     "text": [
      "<class 'pandas.core.frame.DataFrame'>\n",
      "RangeIndex: 202983 entries, 0 to 202982\n",
      "Data columns (total 10 columns):\n",
      " #   Column                Non-Null Count   Dtype \n",
      "---  ------                --------------   ----- \n",
      " 0   mal_id                202983 non-null  int64 \n",
      " 1   url                   202983 non-null  object\n",
      " 2   name                  202983 non-null  object\n",
      " 3   name_kanji            149711 non-null  object\n",
      " 4   nicknames             29736 non-null   object\n",
      " 5   favorites             202983 non-null  int64 \n",
      " 6   about                 111571 non-null  object\n",
      " 7   image_jpg_url         202983 non-null  object\n",
      " 8   image_webp_url        202983 non-null  object\n",
      " 9   image_webp_small_url  202983 non-null  object\n",
      "dtypes: int64(2), object(8)\n",
      "memory usage: 15.5+ MB\n"
     ]
    }
   ],
   "source": [
    "df.info()"
   ]
  },
  {
   "cell_type": "code",
   "execution_count": 15,
   "id": "3cbce88d",
   "metadata": {},
   "outputs": [
    {
     "data": {
      "text/plain": [
       "'Birthdate: June 26, 2044 Height: 185 cm (6\\' 1\") Weight: 70 kg (155 lbs) Blood type: O Planet of Origin: Mars  Spike Spiegel is a tall and lean 27-year-old bounty hunter born on Mars. The inspiration for Spike is found in martial artist Bruce Lee who uses the martial arts style of Jeet Kune Do as depicted in Session 8, \"Waltz For Venus\". He has fluffy, dark green hair (which is inspired by Yusaku Matsuda\\'s) and reddish brown eyes, one of which is artificial and lighter than the other. He is usually dressed in a blue leisure suit, with a yellow shirt and Lupin III inspired boots. A flashback in Session 6 revealed it was his fully functioning right eye which was surgically replaced by the cybernetic one (although Spike himself may not have conscious recollection of the procedure since he claims to have lost his natural eye in an \"accident\"). One theory is that his natural eye may have been lost during the pre-series massacre in which he supposedly \"died\". The purpose of this cybernetic eye is never explicitly stated, though it apparently gives him exceptional hand-eye coordination - particularly with firearms (Spike\\'s gun of choice is a Jericho 941, as seen throughout the series). In the first episode, when facing a bounty-head using Red Eye, Spike mocks him, calling his moves \"too slow\". At first, this seems like posturing on Spike\\'s part, but even with his senses and reflexes accelerated to superhuman levels by the drug, the bounty cannot even touch Spike. A recurring device throughout the entire show is a closeup on Spike\\'s fully-natural left eye before dissolving to a flashback of his life as part of the syndicate. As said by Spike himself in the last episode, his right eye \"only sees the present\" and his left eye \"only sees the past.\" Spike often has a bent cigarette between his lips, sometimes despite rain or \"No Smoking\" signs.'"
      ]
     },
     "execution_count": 15,
     "metadata": {},
     "output_type": "execute_result"
    }
   ],
   "source": [
    "df.about[0]"
   ]
  },
  {
   "cell_type": "code",
   "execution_count": null,
   "id": "9d1cd47e",
   "metadata": {},
   "outputs": [],
   "source": []
  }
 ],
 "metadata": {
  "kernelspec": {
   "display_name": "myenv",
   "language": "python",
   "name": "python3"
  },
  "language_info": {
   "codemirror_mode": {
    "name": "ipython",
    "version": 3
   },
   "file_extension": ".py",
   "mimetype": "text/x-python",
   "name": "python",
   "nbconvert_exporter": "python",
   "pygments_lexer": "ipython3",
   "version": "3.12.3"
  }
 },
 "nbformat": 4,
 "nbformat_minor": 5
}
